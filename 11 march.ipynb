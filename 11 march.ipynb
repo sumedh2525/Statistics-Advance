{
 "cells": [
  {
   "cell_type": "raw",
   "id": "9eeabd08-babf-43ae-b99f-3b58e6c3166b",
   "metadata": {},
   "source": [
    "Q1: What is the difference between a t-test and a z-test? Provide an example scenario where you would\n",
    "use each type of test.\n",
    "\n",
    "Ans:\n",
    "Both the t-test and the z-test are statistical hypothesis tests used to make inferences about population parameters based on sample data\n",
    "The t-test is used when the sample size is small (typically less than 30) or when the population standard deviation is unknown. It is based on Student's t-distribution, which has thicker tails compared to the standard normal (z) distribution.\n",
    "On the other hand, the z-test is appropriate when the sample size is large (typically greater than 30) or when the population standard deviation is known. It assumes that the data follows a normal distribution and uses the standard normal (z) distribution for hypothesis testing.\n",
    "\n",
    "\n"
   ]
  },
  {
   "cell_type": "raw",
   "id": "699269d7-234d-449f-a36b-55bd96303059",
   "metadata": {},
   "source": [
    "Q2: Differentiate between one-tailed and two-tailed tests.\n",
    "\n",
    "Ans:\n",
    "One-Tailed Test:\n",
    "A one-tailed test, also known as a directional test, is a statistical hypothesis test in which the alternative hypothesis specifies the direction of the expected difference or relationship between variables\n",
    "Two-Tailed Test:\n",
    "A two-tailed test, also known as a non-directional test, is a statistical hypothesis test in which the alternative hypothesis does not specify a particular direction of the expected difference or relationship between variables.\n",
    "\n",
    "\n"
   ]
  },
  {
   "cell_type": "raw",
   "id": "d8d3e446-711d-493a-be39-6a4664980d87",
   "metadata": {},
   "source": [
    "Q3: Explain the concept of Type 1 and Type 2 errors in hypothesis testing. Provide an example scenario for\n",
    "each type of error.\n",
    "\n",
    "\n",
    "A Type I error is also known as a false positive. This means that the researcher has concluded that there is a statistically significant difference between the groups, when in reality there is no difference. For example, a researcher might conduct a study to see if a new drug is effective in treating depression. The researcher might find that the participants who took the drug had a lower depression score than the participants who took a placebo. However, if the null hypothesis is actually true, and the drug is not effective, then the researcher has made a Type I error.\n",
    "A Type II error is also known as a false negative. This means that the researcher has concluded that there is no statistically significant difference between the groups, when in reality there is a difference. For example, the same researcher might conduct a study to see if a new drug is effective in treating depression. However, this time, the researcher might find that the participants who took the drug did not have a lower depression score than the participants who took a placebo. If the null hypothesis is actually false, and the drug is effective, then the researcher has made a Type II error.\n",
    "\n",
    "\n"
   ]
  },
  {
   "cell_type": "raw",
   "id": "4dcef066-2342-4c05-9f2d-ea0e1036577f",
   "metadata": {},
   "source": [
    "Q4:  Explain Bayes's theorem with an example\n",
    "\n",
    "Ans:\n",
    "\n",
    "Bayes's theorem is a fundamental concept in probability theory and statistics that describes how to update our beliefs or probabilities based on new evidence. It allows us to incorporate prior knowledge and revise it in light of new information. Let's explore Bayes's theorem using a simple example:\n",
    "\n",
    "Suppose there is a disease called XYZ, which affects 1% of the population. You visit the doctor because you're feeling unwell, and the doctor performs a test to check if you have XYZ. The test is known to be 95% accurate, meaning that if you have the disease, it will correctly detect it 95% of the time, and if you don't have the disease, it will correctly return a negative result 95% of the time.\n",
    "\n",
    "\n",
    "\n",
    "\n"
   ]
  },
  {
   "cell_type": "raw",
   "id": "2b4b7a49-6e18-4eb2-a5fd-9f31cd4e11d1",
   "metadata": {},
   "source": [
    "Q5: What is a confidence interval? How to calculate the confidence interval, explain with an example.\n",
    "\n",
    "Ans:\n",
    "A confidence interval is a range of values that provides an estimate of the plausible range for an unknown population parameter. It quantifies the uncertainty associated with estimating the true value based on a sample from the population. Confidence intervals are commonly used in statistics and provide a measure of the precision and reliability of an estimate.\n",
    "\n",
    "To calculate a confidence interval, you typically need three pieces of information:\n",
    "\n",
    "Sample data: A representative sample from the population of interest.\n",
    "Confidence level: The desired level of confidence, often expressed as a percentage (e.g., 95%, 99%).\n",
    "Estimation method: The statistical technique used to estimate the population parameter.\n",
    "\n",
    "\n",
    "\n",
    "\n"
   ]
  },
  {
   "cell_type": "raw",
   "id": "e494703e-0239-4cd7-acb2-4c7c6a347856",
   "metadata": {},
   "source": [
    "Q6. Use Bayes' Theorem to calculate the probability of an event occurring given prior knowledge of the\n",
    "event's probability and new evidence. Provide a sample problem and solution.\n",
    "\n",
    "Ans:\n",
    "Bayes' Theorem is a fundamental principle in probability theory that allows us to update our beliefs about the probability of an event occurring based on new evidence. The theorem is stated as:\n",
    "\n",
    "Example:\n",
    "Suppose a rare disease affects 1 in 10,000 people. There is a diagnostic test available for this disease that is 99% accurate. If a person tests positive for the disease, what is the probability that they actually have it?\n",
    "Solution:\n",
    "Let's define the events:\n",
    "A: Having the disease\n",
    "B: Testing positive for the disease\n",
    "\n",
    "Given information:\n",
    "P(A) = 1/10,000 (prior probability of having the disease)\n",
    "P(B|A) = 0.99 (probability of testing positive given that the person has the disease)\n",
    "\n",
    "We need to calculate P(A|B) (the probability of having the disease given a positive test result).\n",
    "\n",
    "P(B) can be calculated using the Law of Total Probability:\n",
    "P(B) = P(B|A) * P(A) + P(B|~A) * P(~A)\n",
    "= 0.99 * (1/10,000) + (1 - P(~A))\n",
    "\n",
    "Here, P(~A) represents the probability of not having the disease, which can be calculated as 1 - P(A):\n",
    "P(~A) = 1 - (1/10,000) = 9,999/10,000\n",
    "\n",
    "Substituting these values, we have:\n",
    "P(B) = 0.99 * (1/10,000) + (1 - 1/10,000)\n",
    "≈ 0.010098\n",
    "\n",
    "Now, we can use Bayes' Theorem to calculate P(A|B):\n",
    "P(A|B) = (P(B|A) * P(A)) / P(B)\n",
    "= (0.99 * (1/10,000)) / 0.010098\n",
    "≈ 0.009803\n",
    "\n",
    "\n",
    "\n",
    "\n"
   ]
  },
  {
   "cell_type": "raw",
   "id": "7397d208-05e0-4554-8149-373eaf500b93",
   "metadata": {},
   "source": [
    "Q7. Calculate the 95% confidence interval for a sample of data with a mean of 50 and a standard deviation\n",
    "of 5. Interpret the results."
   ]
  },
  {
   "cell_type": "code",
   "execution_count": 3,
   "id": "66af0fe6-c3a8-4d4d-aebd-e201b2423d33",
   "metadata": {},
   "outputs": [
    {
     "name": "stdout",
     "output_type": "stream",
     "text": [
      "confidence interval : 49.00789152424566,50.99210847575434\n"
     ]
    }
   ],
   "source": [
    "import scipy.stats as stats\n",
    "import math\n",
    "\n",
    "\n",
    "sample_mean = 50\n",
    "std_dev = 5\n",
    "confidence_level = 0.95\n",
    "\n",
    "# let assume sample size is 100\n",
    "sample_size = 100\n",
    "dof = sample_size - 1\n",
    "\n",
    "\n",
    "std_error = std_dev/math.sqrt(sample_size)\n",
    "critical_value = stats.t.ppf((1+confidence_level)/2,dof)\n",
    "\n",
    "margin_of_error = std_error * critical_value\n",
    "\n",
    "upper_bound = sample_mean + margin_of_error\n",
    "lower_bound = sample_mean - margin_of_error\n",
    "\n",
    "print(f\"confidence interval : {lower_bound},{upper_bound}\")"
   ]
  },
  {
   "cell_type": "code",
   "execution_count": null,
   "id": "6a3afcc6-ecb4-4e78-a3e6-615b1ac200f9",
   "metadata": {},
   "outputs": [],
   "source": []
  },
  {
   "cell_type": "raw",
   "id": "4daf06cf-8059-4b36-ac3b-685edf8b77a4",
   "metadata": {},
   "source": [
    "Q8. What is the margin of error in a confidence interval? How does sample size affect the margin of error?\n",
    "Provide an example of a scenario where a larger sample size would result in a smaller margin of error.\n",
    "\n",
    "\n",
    "Ans:\n",
    "The margin of error in a confidence interval represents the maxomum likely difference between the point estimate (such as the sample mean ) and the true popultion parameter. It is typically denoted by \"E\" and is calculated by multiplying the critical value by the standard error of the statistic.\n",
    "\n",
    "Margin of Error = Critical Value * (Standard Deviation/sqrt(sample size))\n",
    "For example, let's consider two scenarios:\n",
    "\n",
    "Scenario 1: A survey of 100 people yields a margin of error of ±3.2 percentage points.\n",
    "Scenario 2: A survey of 1,000 people yields a margin of error of ±1.0 percentage points.\n",
    "\n",
    "In this case, the larger sample size in Scenario 2 (1,000 people) results in a smaller margin of error (±1.0 percentage points) compared to Scenario 1 (100 people) with a larger margin of error (±3.2 percentage points). The increased sample size in Scenario 2 provides more precise estimates, indicating that the results are likely to be closer to the true population parameter.\n",
    "\n",
    "\n",
    "\n"
   ]
  },
  {
   "cell_type": "raw",
   "id": "ca204ef8-06f5-4342-8437-53d42cbcea19",
   "metadata": {},
   "source": [
    "Q9. Calculate the z-score for a data point with a value of 75, a population mean of 70, and a population\n",
    "standard deviation of 5. Interpret the results"
   ]
  },
  {
   "cell_type": "code",
   "execution_count": 1,
   "id": "81fd05a4-83d3-457d-8725-1c45e3dff430",
   "metadata": {},
   "outputs": [
    {
     "name": "stdout",
     "output_type": "stream",
     "text": [
      "z-score : 1.0\n"
     ]
    }
   ],
   "source": [
    "import scipy.stats as stats\n",
    "import math\n",
    "sample_size = 75\n",
    "sample_mean = 70\n",
    "std_dev = 5\n",
    "\n",
    "z_score = (sample_size - sample_mean)/std_dev\n",
    "print(f\"z-score : {z_score}\")"
   ]
  },
  {
   "cell_type": "code",
   "execution_count": null,
   "id": "61a317e0-187b-46e2-b54e-07ad4a2488aa",
   "metadata": {},
   "outputs": [],
   "source": []
  },
  {
   "cell_type": "raw",
   "id": "20f50330-a6d2-4a07-a1e0-757fe8175dce",
   "metadata": {},
   "source": [
    "Q10. In a study of the effectiveness of a new weight loss drug, a sample of 50 participants lost an average\n",
    "of 6 pounds with a standard deviation of 2.5 pounds. Conduct a hypothesis test to determine if the drug is\n",
    "significantly effective at a 95% confidence level using a t-test."
   ]
  },
  {
   "cell_type": "code",
   "execution_count": 2,
   "id": "9df394fa-54b5-4d90-98a2-d5b456a0d6ea",
   "metadata": {},
   "outputs": [
    {
     "name": "stdout",
     "output_type": "stream",
     "text": [
      "t-test is equal to : 16.970562748477143\n"
     ]
    }
   ],
   "source": [
    "import scipy.stats as stats\n",
    "import math\n",
    "from scipy.stats import ttest_ind\n",
    "\n",
    "\n",
    "sample_size = 50\n",
    "sample_mean = 6\n",
    "std_dev = 2.5\n",
    "dof = sample_size - 1\n",
    "\n",
    "# t = (smaple mean - hypothesized population mean) / (standard deviation / sqrt(n))\n",
    "\n",
    "t_test = (sample_mean - 0) / (std_dev / sample_size ** 0.5)\n",
    "\n",
    "print(f\"t-test is equal to : {t_test}\")"
   ]
  },
  {
   "cell_type": "code",
   "execution_count": null,
   "id": "59a0a0cf-ae85-415d-9c03-f9bdd2acc9a5",
   "metadata": {},
   "outputs": [],
   "source": []
  },
  {
   "cell_type": "raw",
   "id": "89b7679c-acc4-4e3f-9489-188af70eff07",
   "metadata": {},
   "source": [
    "Q11. In a survey of 500 people, 65% reported being satisfied with their current job. Calculate the 95%\n",
    "confidence interval for the true proportion of people who are satisfied with their job."
   ]
  },
  {
   "cell_type": "code",
   "execution_count": 3,
   "id": "72468981-6ab7-4295-8fa8-bd55f34357ca",
   "metadata": {},
   "outputs": [
    {
     "name": "stdout",
     "output_type": "stream",
     "text": [
      "(0.608191771144905, 0.6918082288550951)\n"
     ]
    }
   ],
   "source": [
    "import scipy.stats as stats\n",
    "import math\n",
    "\n",
    "sample_size = 500\n",
    "confidence_level = 0.95\n",
    "sample_proportion = 0.65\n",
    "z_score = 1.96\n",
    "\n",
    "standard_error = math.sqrt((sample_proportion*(1-sample_proportion)) / sample_size)\n",
    "margin_of_error = z_score * standard_error\n",
    "\n",
    "lower_bound = sample_proportion - margin_of_error\n",
    "upper_bound = sample_proportion + margin_of_error\n",
    "\n",
    "confidence_interval = (lower_bound , upper_bound)\n",
    "print(confidence_interval)"
   ]
  },
  {
   "cell_type": "code",
   "execution_count": null,
   "id": "c160b773-7b54-4329-9a2f-eca67649cde6",
   "metadata": {},
   "outputs": [],
   "source": []
  },
  {
   "cell_type": "raw",
   "id": "90488bf0-a768-49f8-a4f6-cc63358a0233",
   "metadata": {},
   "source": [
    "Q12. A researcher is testing the effectiveness of two different teaching methods on student performance.\n",
    "Sample A has a mean score of 85 with a standard deviation of 6, while sample B has a mean score of 82\n",
    "with a standard deviation of 5. Conduct a hypothesis test to determine if the two teaching methods have a\n",
    "significant difference in student performance using a t-test with a significance level of 0.01."
   ]
  },
  {
   "cell_type": "markdown",
   "id": "3b1a5eac-2016-449e-b829-a509f0a2f466",
   "metadata": {},
   "source": []
  },
  {
   "cell_type": "code",
   "execution_count": 5,
   "id": "4574428c-7124-46e8-996a-c4f20ed351b4",
   "metadata": {},
   "outputs": [
    {
     "name": "stdout",
     "output_type": "stream",
     "text": [
      "There is no significant difference between the two teaching methods.\n"
     ]
    }
   ],
   "source": [
    "import numpy as np\n",
    "import scipy.stats as stats\n",
    "\n",
    "\n",
    "sample_A_mean = 85\n",
    "sample_A_std = 6\n",
    "sample_A_size = 40\n",
    "sample_B_mean = 82\n",
    "sample_B_std = 5\n",
    "sample_B_size = 40\n",
    "alpha = 0.01 # significance level\n",
    "\n",
    "df = sample_A_size + sample_B_size - 2\n",
    "\n",
    "t_statistic , p_value = stats.ttest_ind_from_stats(sample_A_mean , sample_A_std, sample_A_size,\n",
    "                                                   sample_B_mean, sample_B_std, sample_B_size)\n",
    "critical_t = stats.t.ppf(1 - alpha / 2,df)\n",
    "\n",
    "if abs(t_statistic) > critical_t or p_value < alpha:\n",
    "    print(\"There is a significant difference between the two teaching methods.\")\n",
    "else:\n",
    "    print(\"There is no significant difference between the two teaching methods.\")\n",
    "    "
   ]
  },
  {
   "cell_type": "code",
   "execution_count": 3,
   "id": "8cbe2818-8635-4a19-a0c1-9e55e6d3974d",
   "metadata": {},
   "outputs": [
    {
     "data": {
      "text/plain": [
       "2.6403400123362197"
      ]
     },
     "execution_count": 3,
     "metadata": {},
     "output_type": "execute_result"
    }
   ],
   "source": [
    "critical_t"
   ]
  },
  {
   "cell_type": "code",
   "execution_count": 4,
   "id": "fed4c501-8564-4518-ab9f-056d76ad521f",
   "metadata": {},
   "outputs": [
    {
     "data": {
      "text/plain": [
       "(2.429328990536748, 0.017426485060670616)"
      ]
     },
     "execution_count": 4,
     "metadata": {},
     "output_type": "execute_result"
    }
   ],
   "source": [
    "t_statistic , p_value"
   ]
  },
  {
   "cell_type": "code",
   "execution_count": null,
   "id": "e3e2cb8b-87d8-4b48-b89d-5863f53be665",
   "metadata": {},
   "outputs": [],
   "source": []
  },
  {
   "cell_type": "raw",
   "id": "73259da5-84ad-48b7-9f8a-0a4a898983b0",
   "metadata": {},
   "source": [
    "Q13. A population has a mean of 60 and a standard deviation of 8. A sample of 50 observations has a mean\n",
    "of 65. Calculate the 90% confidence interval for the true population mean."
   ]
  },
  {
   "cell_type": "code",
   "execution_count": 1,
   "id": "23b3eaf9-f2e1-46a0-9c85-b400e9a3c1db",
   "metadata": {},
   "outputs": [
    {
     "name": "stdout",
     "output_type": "stream",
     "text": [
      "confidence interval : 63.10319919251691 , 66.89680080748309\n"
     ]
    }
   ],
   "source": [
    "import scipy.stats as stats\n",
    "import math\n",
    "\n",
    "population_mean = 60\n",
    "sample_mean = 65\n",
    "std_dev = 8\n",
    "sample_size = 50\n",
    "\n",
    "confidence_level = 0.90\n",
    "df = sample_size - 1\n",
    "\n",
    "sample_error = std_dev / math.sqrt(sample_size)\n",
    "z_score = stats.t.ppf((1+confidence_level) / 2, df) #(critical value)\n",
    "\n",
    "margin_of_error = z_score * sample_error\n",
    "\n",
    "lower_bound = sample_mean - margin_of_error\n",
    "upper_bound = sample_mean + margin_of_error\n",
    "\n",
    "print(\"confidence interval :\" , lower_bound ,\",\", upper_bound)"
   ]
  },
  {
   "cell_type": "code",
   "execution_count": null,
   "id": "2e5af863-d240-4042-8778-eab892775a62",
   "metadata": {},
   "outputs": [],
   "source": []
  },
  {
   "cell_type": "raw",
   "id": "b2d0c9c3-3015-4252-963a-7dbdbfd47b2f",
   "metadata": {},
   "source": [
    "Q14. In a study of the effects of caffeine on reaction time, a sample of 30 participants had an average\n",
    "reaction time of 0.25 seconds with a standard deviation of 0.05 seconds. Conduct a hypothesis test to\n",
    "determine if the caffeine has a significant effect on reaction time at a 90% confidence level using a t-test."
   ]
  },
  {
   "cell_type": "code",
   "execution_count": 5,
   "id": "2e0e1196-f332-452a-97e4-3c9c71b5757b",
   "metadata": {},
   "outputs": [
    {
     "name": "stdout",
     "output_type": "stream",
     "text": [
      "Caffine has significant effect on reaction time.\n"
     ]
    }
   ],
   "source": [
    "import scipy.stats as stats\n",
    "import math\n",
    "import numpy as np\n",
    "\n",
    "sample_size = 30\n",
    "std_dev = 0.05\n",
    "confidence_level = 0.90\n",
    "sample_mean = 0.25\n",
    "population_mean = 0 # (Assuming)\n",
    "df = sample_size - 1\n",
    "t_value = (sample_mean - population_mean ) /  (std_dev/ np.sqrt(sample_size))\n",
    "critical_t = stats.t.ppf(1-(1-confidence_level) / 2, df = df)\n",
    "\n",
    "if abs(t_value) > critical_t:\n",
    "    print(\"Caffine has significant effect on reaction time.\")\n",
    "else:\n",
    "    print(\"caffine does not have a significant effect on reaction time.\")\n",
    "                                                    "
   ]
  },
  {
   "cell_type": "code",
   "execution_count": null,
   "id": "e0515336-2751-4c5e-bcdb-127d31c5943a",
   "metadata": {},
   "outputs": [],
   "source": []
  },
  {
   "cell_type": "code",
   "execution_count": null,
   "id": "111ff0d9-98b6-41ac-8cbb-bc414b4f990e",
   "metadata": {},
   "outputs": [],
   "source": []
  }
 ],
 "metadata": {
  "kernelspec": {
   "display_name": "Python 3 (ipykernel)",
   "language": "python",
   "name": "python3"
  },
  "language_info": {
   "codemirror_mode": {
    "name": "ipython",
    "version": 3
   },
   "file_extension": ".py",
   "mimetype": "text/x-python",
   "name": "python",
   "nbconvert_exporter": "python",
   "pygments_lexer": "ipython3",
   "version": "3.10.8"
  }
 },
 "nbformat": 4,
 "nbformat_minor": 5
}
